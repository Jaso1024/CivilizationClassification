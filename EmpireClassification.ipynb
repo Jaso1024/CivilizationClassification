{
 "cells": [
  {
   "cell_type": "code",
   "execution_count": 89,
   "id": "9cf46f4a",
   "metadata": {},
   "outputs": [],
   "source": [
    "import nltk\n",
    "from nltk.stem import WordNetLemmatizer\n",
    "\n",
    "from sklearn.feature_extraction.text import TfidfVectorizer, CountVectorizer\n",
    "from sklearn.tree import DecisionTreeClassifier\n",
    "from sklearn.ensemble import RandomForestClassifier\n",
    "from sklearn.svm import SVC as SupportVectorClassifier\n",
    "from sklearn.linear_model import LogisticRegression\n",
    "from sklearn.model_selection import train_test_split\n",
    "from sklearn.preprocessing import LabelEncoder\n",
    "\n",
    "import tensorflow as tf\n",
    "from tensorflow.keras.layers import Dense, LSTM, Concatenate, Embedding, Input, Bidirectional, Dropout, BatchNormalization\n",
    "from tensorflow.keras.models import Sequential, Model\n",
    "from keras.optimizers import Adam\n",
    "from tensorflow.keras.callbacks import EarlyStopping\n",
    "from tensorflow.keras.preprocessing.text import one_hot\n",
    "from tensorflow.keras.preprocessing.sequence import pad_sequences\n",
    "from tensorflow_addons.activations import mish\n",
    "from tensorflow.keras.callbacks import EarlyStopping, ModelCheckpoint\n",
    "\n",
    "import sys\n",
    "import re\n",
    "import numpy as np\n",
    "import pandas as pd\n",
    "import random\n",
    "import contractions\n",
    "\n",
    "from collections import deque, Counter\n",
    "from itertools import permutations, repeat, combinations\n",
    "\n",
    "\n"
   ]
  },
  {
   "cell_type": "code",
   "execution_count": 90,
   "id": "0429344c",
   "metadata": {},
   "outputs": [],
   "source": [
    "empires = []\n",
    "vectorizer = CountVectorizer()\n",
    "min_sentence_length = 15 # average length of a sentence is between 15 and 20 words\n",
    "level_sample_sizes = True"
   ]
  },
  {
   "cell_type": "code",
   "execution_count": 91,
   "id": "82d4217e",
   "metadata": {},
   "outputs": [],
   "source": [
    "with open(\"Resources/Data/EmpireText.txt\", \"r\", encoding=\"utf8\") as file:\n",
    "    line = file.readline().replace(\"\\n\", \"\").split(\" \")\n",
    "    for empire in line:\n",
    "        empires.append(empire)"
   ]
  },
  {
   "cell_type": "code",
   "execution_count": 92,
   "id": "e6852b1b",
   "metadata": {},
   "outputs": [],
   "source": [
    "def format_sentence(sentence, current_empire):\n",
    "        if len(sentence.split(\" \")) > min_sentence_length:\n",
    "            sentence = contractions.fix(sentence)\n",
    "            contains_other_empire = False\n",
    "            for empire in empires:\n",
    "                if empire == current_empire:\n",
    "                    continue\n",
    "                elif re.search(empire.lower(), sentence.lower()) is not None:\n",
    "                    contains_other_empire = True\n",
    "\n",
    "            if not contains_other_empire:\n",
    "                return sentence.strip()\n",
    "\n",
    "text = []\n",
    "labels = []\n",
    "with open(\"Resources/Data/EmpireText.txt\", \"r\", encoding=\"utf8\") as file: \n",
    "    for line in file.readlines()[1:]:\n",
    "        line = line.strip().replace(\"\\n\", \"\")\n",
    "        line = re.sub(\"\\[.{0,4}]\", \"\", line) #remove wikipedia citings\n",
    "        line = line.replace(\"C.\", \"C\")\n",
    "        line = line.replace(\"E.\", \"E\")\n",
    "        line = line.replace(\"D.\", \"D\")\n",
    "        \n",
    "        if line in empires:\n",
    "            current_empire = line\n",
    "            continue\n",
    "        elif len(line.replace(\" \", \"\")) < min_sentence_length:\n",
    "            continue\n",
    "        elif len(line.split(\" \")) < min_sentence_length:\n",
    "            continue\n",
    "        elif line[-1] != \".\":\n",
    "            line += \".\"\n",
    "    \n",
    "        line = nltk.sent_tokenize(line)\n",
    "        formatted_line = \"\"\n",
    "        for sentence in line:\n",
    "            sentence = format_sentence(sentence, current_empire)\n",
    "            if sentence is not None:\n",
    "                formatted_line += sentence + \" \"\n",
    "                text.append(sentence)\n",
    "                labels.append(current_empire)\n",
    "            \n",
    "data = pd.DataFrame({\"label\":labels, \"text\":text})"
   ]
  },
  {
   "cell_type": "markdown",
   "id": "769e0173",
   "metadata": {},
   "source": [
    "# Data Visualization"
   ]
  },
  {
   "cell_type": "markdown",
   "id": "32657aad",
   "metadata": {},
   "source": [
    "## Training Data"
   ]
  },
  {
   "cell_type": "code",
   "execution_count": 93,
   "id": "a3519ef7",
   "metadata": {},
   "outputs": [
    {
     "data": {
      "text/html": [
       "<div>\n",
       "<style scoped>\n",
       "    .dataframe tbody tr th:only-of-type {\n",
       "        vertical-align: middle;\n",
       "    }\n",
       "\n",
       "    .dataframe tbody tr th {\n",
       "        vertical-align: top;\n",
       "    }\n",
       "\n",
       "    .dataframe thead th {\n",
       "        text-align: right;\n",
       "    }\n",
       "</style>\n",
       "<table border=\"1\" class=\"dataframe\">\n",
       "  <thead>\n",
       "    <tr style=\"text-align: right;\">\n",
       "      <th></th>\n",
       "      <th>label</th>\n",
       "      <th>text</th>\n",
       "    </tr>\n",
       "  </thead>\n",
       "  <tbody>\n",
       "    <tr>\n",
       "      <th>0</th>\n",
       "      <td>Roman</td>\n",
       "      <td>The Roman Empire, the ancient empire, centred ...</td>\n",
       "    </tr>\n",
       "    <tr>\n",
       "      <th>1</th>\n",
       "      <td>Spanish</td>\n",
       "      <td>The Spanish Empire (Spanish: Imperio españold)...</td>\n",
       "    </tr>\n",
       "    <tr>\n",
       "      <th>2</th>\n",
       "      <td>Russian</td>\n",
       "      <td>The Russian Empire, also known as Imperial Rus...</td>\n",
       "    </tr>\n",
       "    <tr>\n",
       "      <th>3</th>\n",
       "      <td>Roman</td>\n",
       "      <td>A period of unrest and civil wars in the 1st c...</td>\n",
       "    </tr>\n",
       "    <tr>\n",
       "      <th>4</th>\n",
       "      <td>Roman</td>\n",
       "      <td>This period encompassed the career of Julius C...</td>\n",
       "    </tr>\n",
       "  </tbody>\n",
       "</table>\n",
       "</div>"
      ],
      "text/plain": [
       "     label                                               text\n",
       "0    Roman  The Roman Empire, the ancient empire, centred ...\n",
       "1  Spanish  The Spanish Empire (Spanish: Imperio españold)...\n",
       "2  Russian  The Russian Empire, also known as Imperial Rus...\n",
       "3    Roman  A period of unrest and civil wars in the 1st c...\n",
       "4    Roman  This period encompassed the career of Julius C..."
      ]
     },
     "execution_count": 93,
     "metadata": {},
     "output_type": "execute_result"
    }
   ],
   "source": [
    "data.head()"
   ]
  },
  {
   "cell_type": "code",
   "execution_count": 94,
   "id": "e2a2a062",
   "metadata": {},
   "outputs": [
    {
     "name": "stdout",
     "output_type": "stream",
     "text": [
      "<class 'pandas.core.frame.DataFrame'>\n",
      "RangeIndex: 2540 entries, 0 to 2539\n",
      "Data columns (total 2 columns):\n",
      " #   Column  Non-Null Count  Dtype \n",
      "---  ------  --------------  ----- \n",
      " 0   label   2540 non-null   object\n",
      " 1   text    2540 non-null   object\n",
      "dtypes: object(2)\n",
      "memory usage: 39.8+ KB\n"
     ]
    }
   ],
   "source": [
    "data.info()"
   ]
  },
  {
   "cell_type": "code",
   "execution_count": 95,
   "id": "0567be82",
   "metadata": {},
   "outputs": [
    {
     "data": {
      "text/plain": [
       "Roman      989\n",
       "Russian    800\n",
       "Spanish    751\n",
       "Name: label, dtype: int64"
      ]
     },
     "execution_count": 95,
     "metadata": {},
     "output_type": "execute_result"
    }
   ],
   "source": [
    "training_value_counts = data[\"label\"].value_counts()\n",
    "training_value_counts"
   ]
  },
  {
   "cell_type": "markdown",
   "id": "465d156b",
   "metadata": {},
   "source": [
    "# Text classification:\n",
    "### The process of text classification is comprised of 4 main steps\n",
    "#### - Preprocessing the text\n",
    "#### - Encoding labels\n",
    "#### - Vectorizing the text\n",
    "#### - Training the model(s)\n",
    "***"
   ]
  },
  {
   "cell_type": "markdown",
   "id": "b562a889",
   "metadata": {},
   "source": [
    "## Text preprocessing\n",
    "### Steps:\n",
    "- Lowercasing\n",
    "- Tokenization\n",
    "- POS tagging\n",
    "- Lemmatization\n",
    "\n",
    "Note: When tested, the models showed better results without the removal of stopwords"
   ]
  },
  {
   "cell_type": "markdown",
   "id": "a96bdb28",
   "metadata": {},
   "source": [
    "### Example:"
   ]
  },
  {
   "cell_type": "code",
   "execution_count": 96,
   "id": "599815ec",
   "metadata": {
    "scrolled": true
   },
   "outputs": [
    {
     "name": "stdout",
     "output_type": "stream",
     "text": [
      "Spanish empire:\n"
     ]
    },
    {
     "data": {
      "text/plain": [
       "'The Spanish Empire (Spanish: Imperio españold), also known as the Hispanic Monarchy (Spanish: Monarquía Hispánica) or the Catholic Monarchy (Spanish: Monarquía Católica) was a colonial empire governed by Spain and its predecessor states between 1492 and 1976.'"
      ]
     },
     "execution_count": 96,
     "metadata": {},
     "output_type": "execute_result"
    }
   ],
   "source": [
    "example_paragraph = data['text'][1]\n",
    "example_paragraph = \"\".join(example_paragraph)\n",
    "print(data['label'][1], \"empire:\")\n",
    "example_paragraph"
   ]
  },
  {
   "cell_type": "code",
   "execution_count": 97,
   "id": "b2fc66e2",
   "metadata": {},
   "outputs": [
    {
     "data": {
      "text/plain": [
       "'the spanish empire (spanish: imperio españold), also known as the hispanic monarchy (spanish: monarquía hispánica) or the catholic monarchy (spanish: monarquía católica) was a colonial empire governed by spain and its predecessor states between 1492 and 1976.'"
      ]
     },
     "execution_count": 97,
     "metadata": {},
     "output_type": "execute_result"
    }
   ],
   "source": [
    "lowercase_paragraph = example_paragraph.lower()\n",
    "lowercase_paragraph"
   ]
  },
  {
   "cell_type": "code",
   "execution_count": 98,
   "id": "dfccf56c",
   "metadata": {},
   "outputs": [
    {
     "name": "stdout",
     "output_type": "stream",
     "text": [
      "'the', 'spanish', 'empire', '(', 'spanish', ':', 'imperio', 'españold', ')', ',', 'also', 'known', 'as', 'the', 'hispanic', 'monarchy', '(', 'spanish', ':', 'monarquía', 'hispánica', ')', 'or', 'the', 'catholic', 'monarchy', '(', 'spanish', ':', 'monarquía', 'católica', ')', 'was', 'a', 'colonial', 'empire', 'governed', 'by', 'spain', 'and', 'its', 'predecessor', 'states', 'between', '1492', 'and', '1976', '.', "
     ]
    }
   ],
   "source": [
    "tokenized_paragraph = nltk.word_tokenize(lowercase_paragraph)\n",
    "for word in tokenized_paragraph:\n",
    "    print(f\"'{word}'\", end=\", \")"
   ]
  },
  {
   "cell_type": "code",
   "execution_count": 99,
   "id": "48bd2b86",
   "metadata": {},
   "outputs": [
    {
     "name": "stdout",
     "output_type": "stream",
     "text": [
      "('the', 'DT'), ('spanish', 'JJ'), ('empire', 'NN'), ('(', '('), ('spanish', 'JJ'), (':', ':'), ('imperio', 'NN'), ('españold', 'NN'), (')', ')'), (',', ','), ('also', 'RB'), ('known', 'VBN'), ('as', 'IN'), ('the', 'DT'), ('hispanic', 'JJ'), ('monarchy', 'NN'), ('(', '('), ('spanish', 'JJ'), (':', ':'), ('monarquía', 'NN'), ('hispánica', 'NN'), (')', ')'), ('or', 'CC'), ('the', 'DT'), ('catholic', 'JJ'), ('monarchy', 'NN'), ('(', '('), ('spanish', 'JJ'), (':', ':'), ('monarquía', 'NN'), ('católica', 'NN'), (')', ')'), ('was', 'VBD'), ('a', 'DT'), ('colonial', 'JJ'), ('empire', 'NN'), ('governed', 'VBN'), ('by', 'IN'), ('spain', 'NN'), ('and', 'CC'), ('its', 'PRP$'), ('predecessor', 'NN'), ('states', 'NNS'), ('between', 'IN'), ('1492', 'CD'), ('and', 'CC'), ('1976', 'CD'), ('.', '.'), "
     ]
    }
   ],
   "source": [
    "tagged_paragraph = nltk.pos_tag(tokenized_paragraph)\n",
    "for word in tagged_paragraph:\n",
    "    print(word, end=', ')"
   ]
  },
  {
   "cell_type": "code",
   "execution_count": 100,
   "id": "41ddf9c3",
   "metadata": {
    "scrolled": true
   },
   "outputs": [
    {
     "name": "stdout",
     "output_type": "stream",
     "text": [
      "'the', 'spanish', 'empire', '(', 'spanish', ':', 'imperio', 'españold', ')', ',', 'also', 'know', 'a', 'the', 'hispanic', 'monarchy', '(', 'spanish', ':', 'monarquía', 'hispánica', ')', 'or', 'the', 'catholic', 'monarchy', '(', 'spanish', ':', 'monarquía', 'católica', ')', 'be', 'a', 'colonial', 'empire', 'govern', 'by', 'spain', 'and', 'it', 'predecessor', 'state', 'between', '1492', 'and', '1976', '.', "
     ]
    }
   ],
   "source": [
    "def get_pos(tag):    \n",
    "    if tag.startswith('J'):\n",
    "        return nltk.corpus.wordnet.ADJ\n",
    "    elif tag.startswith('V'):\n",
    "        return nltk.corpus.wordnet.VERB\n",
    "    elif tag.startswith('N'):\n",
    "        return nltk.corpus.wordnet.NOUN\n",
    "    elif tag.startswith('R'):\n",
    "        return nltk.corpus.wordnet.ADV\n",
    "    else:\n",
    "        return nltk.corpus.wordnet.NOUN\n",
    "        \n",
    "wnl = WordNetLemmatizer()\n",
    "lemmatized_sentence = [wnl.lemmatize(word, get_pos(pos)) for word, pos in tagged_paragraph]\n",
    "for word in lemmatized_sentence:\n",
    "    print(f\"'{word}'\", end=\", \")"
   ]
  },
  {
   "cell_type": "markdown",
   "id": "0931ffa2",
   "metadata": {},
   "source": [
    "### Application"
   ]
  },
  {
   "cell_type": "code",
   "execution_count": 101,
   "id": "3e009df0",
   "metadata": {},
   "outputs": [],
   "source": [
    "sentences = []\n",
    "labels = []\n",
    "wnl = WordNetLemmatizer()\n",
    "for row in data.iterrows():\n",
    "    label = row[1]['label']\n",
    "    text = row[1]['text']\n",
    "    text = nltk.word_tokenize(text)\n",
    "    text = nltk.pos_tag(text)\n",
    "    text = [wnl.lemmatize(word, get_pos(pos)) for word, pos in text]\n",
    "    sentences.append(text)\n",
    "    labels.append(label)\n",
    "\n",
    "preprocessed_data = pd.DataFrame({\"label\":labels, \"text\":sentences})"
   ]
  },
  {
   "cell_type": "code",
   "execution_count": 102,
   "id": "6fc53e58",
   "metadata": {
    "scrolled": true
   },
   "outputs": [
    {
     "data": {
      "text/html": [
       "<div>\n",
       "<style scoped>\n",
       "    .dataframe tbody tr th:only-of-type {\n",
       "        vertical-align: middle;\n",
       "    }\n",
       "\n",
       "    .dataframe tbody tr th {\n",
       "        vertical-align: top;\n",
       "    }\n",
       "\n",
       "    .dataframe thead th {\n",
       "        text-align: right;\n",
       "    }\n",
       "</style>\n",
       "<table border=\"1\" class=\"dataframe\">\n",
       "  <thead>\n",
       "    <tr style=\"text-align: right;\">\n",
       "      <th></th>\n",
       "      <th>label</th>\n",
       "      <th>text</th>\n",
       "    </tr>\n",
       "  </thead>\n",
       "  <tbody>\n",
       "    <tr>\n",
       "      <th>0</th>\n",
       "      <td>Roman</td>\n",
       "      <td>[The, Roman, Empire, ,, the, ancient, empire, ...</td>\n",
       "    </tr>\n",
       "    <tr>\n",
       "      <th>1</th>\n",
       "      <td>Spanish</td>\n",
       "      <td>[The, Spanish, Empire, (, Spanish, :, Imperio,...</td>\n",
       "    </tr>\n",
       "    <tr>\n",
       "      <th>2</th>\n",
       "      <td>Russian</td>\n",
       "      <td>[The, Russian, Empire, ,, also, know, a, Imper...</td>\n",
       "    </tr>\n",
       "    <tr>\n",
       "      <th>3</th>\n",
       "      <td>Roman</td>\n",
       "      <td>[A, period, of, unrest, and, civil, war, in, t...</td>\n",
       "    </tr>\n",
       "    <tr>\n",
       "      <th>4</th>\n",
       "      <td>Roman</td>\n",
       "      <td>[This, period, encompass, the, career, of, Jul...</td>\n",
       "    </tr>\n",
       "  </tbody>\n",
       "</table>\n",
       "</div>"
      ],
      "text/plain": [
       "     label                                               text\n",
       "0    Roman  [The, Roman, Empire, ,, the, ancient, empire, ...\n",
       "1  Spanish  [The, Spanish, Empire, (, Spanish, :, Imperio,...\n",
       "2  Russian  [The, Russian, Empire, ,, also, know, a, Imper...\n",
       "3    Roman  [A, period, of, unrest, and, civil, war, in, t...\n",
       "4    Roman  [This, period, encompass, the, career, of, Jul..."
      ]
     },
     "execution_count": 102,
     "metadata": {},
     "output_type": "execute_result"
    }
   ],
   "source": [
    "preprocessed_data.head()"
   ]
  },
  {
   "cell_type": "markdown",
   "id": "5a16fa89",
   "metadata": {},
   "source": [
    "## Label Encoding"
   ]
  },
  {
   "cell_type": "code",
   "execution_count": 103,
   "id": "5f74b9b4",
   "metadata": {
    "scrolled": true
   },
   "outputs": [],
   "source": [
    "labels = []\n",
    "for label in preprocessed_data['label']:\n",
    "    labels.append(empires.index(label))\n",
    "preprocessed_data['label'] = labels"
   ]
  },
  {
   "cell_type": "code",
   "execution_count": 104,
   "id": "7f1fcf2f",
   "metadata": {},
   "outputs": [
    {
     "data": {
      "text/html": [
       "<div>\n",
       "<style scoped>\n",
       "    .dataframe tbody tr th:only-of-type {\n",
       "        vertical-align: middle;\n",
       "    }\n",
       "\n",
       "    .dataframe tbody tr th {\n",
       "        vertical-align: top;\n",
       "    }\n",
       "\n",
       "    .dataframe thead th {\n",
       "        text-align: right;\n",
       "    }\n",
       "</style>\n",
       "<table border=\"1\" class=\"dataframe\">\n",
       "  <thead>\n",
       "    <tr style=\"text-align: right;\">\n",
       "      <th></th>\n",
       "      <th>label</th>\n",
       "      <th>text</th>\n",
       "    </tr>\n",
       "  </thead>\n",
       "  <tbody>\n",
       "    <tr>\n",
       "      <th>0</th>\n",
       "      <td>0</td>\n",
       "      <td>[The, Roman, Empire, ,, the, ancient, empire, ...</td>\n",
       "    </tr>\n",
       "    <tr>\n",
       "      <th>1</th>\n",
       "      <td>1</td>\n",
       "      <td>[The, Spanish, Empire, (, Spanish, :, Imperio,...</td>\n",
       "    </tr>\n",
       "    <tr>\n",
       "      <th>2</th>\n",
       "      <td>2</td>\n",
       "      <td>[The, Russian, Empire, ,, also, know, a, Imper...</td>\n",
       "    </tr>\n",
       "    <tr>\n",
       "      <th>3</th>\n",
       "      <td>0</td>\n",
       "      <td>[A, period, of, unrest, and, civil, war, in, t...</td>\n",
       "    </tr>\n",
       "    <tr>\n",
       "      <th>4</th>\n",
       "      <td>0</td>\n",
       "      <td>[This, period, encompass, the, career, of, Jul...</td>\n",
       "    </tr>\n",
       "  </tbody>\n",
       "</table>\n",
       "</div>"
      ],
      "text/plain": [
       "   label                                               text\n",
       "0      0  [The, Roman, Empire, ,, the, ancient, empire, ...\n",
       "1      1  [The, Spanish, Empire, (, Spanish, :, Imperio,...\n",
       "2      2  [The, Russian, Empire, ,, also, know, a, Imper...\n",
       "3      0  [A, period, of, unrest, and, civil, war, in, t...\n",
       "4      0  [This, period, encompass, the, career, of, Jul..."
      ]
     },
     "execution_count": 104,
     "metadata": {},
     "output_type": "execute_result"
    }
   ],
   "source": [
    "preprocessed_data.head()"
   ]
  },
  {
   "cell_type": "markdown",
   "id": "09743410",
   "metadata": {},
   "source": [
    "## Text Vectorization"
   ]
  },
  {
   "cell_type": "code",
   "execution_count": 105,
   "id": "f925ebb4",
   "metadata": {},
   "outputs": [],
   "source": [
    "vectorizer = CountVectorizer()\n",
    "text = []\n",
    "for sentence in preprocessed_data['text']:\n",
    "    text.append(\" \".join(sentence))\n",
    "vectorizer.fit(text)\n",
    "vectorized_text = vectorizer.transform(text)"
   ]
  },
  {
   "cell_type": "markdown",
   "id": "5502c356",
   "metadata": {},
   "source": [
    "## Training the models"
   ]
  },
  {
   "cell_type": "code",
   "execution_count": 106,
   "id": "f08fa455",
   "metadata": {},
   "outputs": [],
   "source": [
    "uniques = set()\n",
    "for sentence in data['text']:\n",
    "    for word in sentence:\n",
    "        uniques.add(word)\n",
    "num_uniques = len(uniques)"
   ]
  },
  {
   "cell_type": "code",
   "execution_count": 107,
   "id": "0af671e6",
   "metadata": {},
   "outputs": [],
   "source": [
    "text = vectorized_text\n",
    "labels = preprocessed_data['label']\n",
    "x_train, x_test, y_train, y_test = train_test_split(text, labels, train_size=0.9)"
   ]
  },
  {
   "cell_type": "markdown",
   "id": "0b0097ae",
   "metadata": {},
   "source": [
    "#### Decision Tree"
   ]
  },
  {
   "cell_type": "code",
   "execution_count": 108,
   "id": "a962d610",
   "metadata": {},
   "outputs": [
    {
     "data": {
      "text/plain": [
       "0.8070866141732284"
      ]
     },
     "execution_count": 108,
     "metadata": {},
     "output_type": "execute_result"
    }
   ],
   "source": [
    "decision_tree = DecisionTreeClassifier(random_state=2, max_depth=150, max_features=1000)\n",
    "decision_tree.fit(x_train, y_train)\n",
    "decision_tree_score = decision_tree.score(x_test, y_test)\n",
    "decision_tree_score"
   ]
  },
  {
   "cell_type": "markdown",
   "id": "e782ac3b",
   "metadata": {},
   "source": [
    "#### Random Forest"
   ]
  },
  {
   "cell_type": "code",
   "execution_count": 109,
   "id": "c0847116",
   "metadata": {},
   "outputs": [
    {
     "data": {
      "text/plain": [
       "0.8937007874015748"
      ]
     },
     "execution_count": 109,
     "metadata": {},
     "output_type": "execute_result"
    }
   ],
   "source": [
    "random_forest = RandomForestClassifier(random_state=0, n_estimators=300, max_depth=150, max_features=1000)\n",
    "random_forest.fit(x_train, y_train)\n",
    "random_forest_score = random_forest.score(x_test, y_test)\n",
    "random_forest_score"
   ]
  },
  {
   "cell_type": "markdown",
   "id": "e9a032c1",
   "metadata": {},
   "source": [
    "#### Support Vector Machine"
   ]
  },
  {
   "cell_type": "code",
   "execution_count": 110,
   "id": "b9251f13",
   "metadata": {},
   "outputs": [
    {
     "data": {
      "text/plain": [
       "0.9291338582677166"
      ]
     },
     "execution_count": 110,
     "metadata": {},
     "output_type": "execute_result"
    }
   ],
   "source": [
    "best_c = 0.1\n",
    "best_kernel = \"linear\"\n",
    "support_vector_machine = SupportVectorClassifier(kernel=best_kernel, C=best_c)\n",
    "support_vector_machine.fit(x_train, y_train)\n",
    "support_vector_machine_score = support_vector_machine.score(x_test, y_test)\n",
    "support_vector_machine_score"
   ]
  },
  {
   "cell_type": "markdown",
   "id": "fd2560e5",
   "metadata": {},
   "source": [
    "### Long Short Term Memory"
   ]
  },
  {
   "cell_type": "markdown",
   "id": "91b8895a",
   "metadata": {},
   "source": [
    "Sidenote: while one could convert x_Train from SparseTensor to array it causes the lstm model to have low accuracy and take 20 min per epoch, so its better to just format the data with tensorflow methods to convert it to a format that tensorflow is better equipped to handle."
   ]
  },
  {
   "cell_type": "code",
   "execution_count": 111,
   "id": "5b8cc854",
   "metadata": {},
   "outputs": [
    {
     "name": "stdout",
     "output_type": "stream",
     "text": [
      "input example: [ 14  46  50 101  14  81  14  36  28  42  43  14  40 115  50  96  58  21\n",
      " 104  23  32   4  17  22  50  81 109  28  81  78  14  62  72  21 103  52\n",
      "   0   0   0   0   0   0   0   0   0   0   0   0   0   0   0   0   0   0\n",
      "   0   0   0   0   0   0   0   0   0   0   0   0   0   0   0   0   0   0\n",
      "   0   0   0   0   0   0   0   0   0   0   0   0   0   0   0   0   0   0\n",
      "   0   0   0   0   0   0   0   0   0   0   0   0   0   0   0   0   0   0\n",
      "   0   0   0   0   0   0   0   0   0]\n",
      "label example: [1. 0. 0.]\n"
     ]
    }
   ],
   "source": [
    "text = preprocessed_data['text']\n",
    "labels = preprocessed_data['label']\n",
    "longest_sentence = max(text, key=lambda x: len(x))\n",
    "encoded_sentences = [one_hot(\" \".join(sentence), num_uniques) for sentence in text]\n",
    "padded_sequences = pad_sequences(encoded_sentences, maxlen=len(longest_sentence), padding='post')\n",
    "\n",
    "def encode_labels(labels):\n",
    "    output = []\n",
    "    for label in labels:\n",
    "        label_array = np.zeros(len(empires))\n",
    "        label_array[label] = 1    \n",
    "        output.append(label_array)\n",
    "    return output\n",
    "\n",
    "labels = encode_labels(labels)\n",
    "x_train, x_test, y_train, y_test = train_test_split(padded_sequences, labels, train_size=.9, random_state=463)\n",
    "print(\"input example:\", x_train[0])\n",
    "print(\"label example:\", y_train[0])"
   ]
  },
  {
   "cell_type": "code",
   "execution_count": 128,
   "id": "882c282e",
   "metadata": {},
   "outputs": [],
   "source": [
    "lstm = Sequential()\n",
    "lstm.add(Embedding(num_uniques, 32))\n",
    "lstm.add(Bidirectional(LSTM(64)))\n",
    "lstm.add(Dropout(0.2))\n",
    "lstm.add(Dense(256, activation=\"relu\"))\n",
    "\n",
    "lstm.add(Dense(3, activation=\"sigmoid\"))\n",
    "opt = Adam(learning_rate=0.0001)\n",
    "lstm.compile(optimizer=opt, loss='categorical_crossentropy', metrics=[\"accuracy\"])"
   ]
  },
  {
   "cell_type": "code",
   "execution_count": 129,
   "id": "7de356a4",
   "metadata": {},
   "outputs": [
    {
     "name": "stdout",
     "output_type": "stream",
     "text": [
      "Epoch 1/100\n",
      "36/36 [==============================] - 5s 74ms/step - loss: 1.0962 - accuracy: 0.3784 - val_loss: 1.0923 - val_accuracy: 0.4094\n",
      "Epoch 2/100\n",
      "36/36 [==============================] - 2s 61ms/step - loss: 1.0936 - accuracy: 0.3871 - val_loss: 1.0880 - val_accuracy: 0.4094\n",
      "Epoch 3/100\n",
      "36/36 [==============================] - 2s 61ms/step - loss: 1.0910 - accuracy: 0.3871 - val_loss: 1.0840 - val_accuracy: 0.4094\n",
      "Epoch 4/100\n",
      "36/36 [==============================] - 2s 62ms/step - loss: 1.0884 - accuracy: 0.3871 - val_loss: 1.0806 - val_accuracy: 0.4094\n",
      "Epoch 5/100\n",
      "36/36 [==============================] - 2s 62ms/step - loss: 1.0829 - accuracy: 0.3871 - val_loss: 1.0673 - val_accuracy: 0.4094\n",
      "Epoch 6/100\n",
      "36/36 [==============================] - 2s 63ms/step - loss: 1.0637 - accuracy: 0.4274 - val_loss: 1.0312 - val_accuracy: 0.5236\n",
      "Epoch 7/100\n",
      "36/36 [==============================] - 2s 63ms/step - loss: 1.0361 - accuracy: 0.4689 - val_loss: 1.0228 - val_accuracy: 0.5433\n",
      "Epoch 8/100\n",
      "36/36 [==============================] - 2s 63ms/step - loss: 1.0090 - accuracy: 0.4987 - val_loss: 0.9633 - val_accuracy: 0.5315\n",
      "Epoch 9/100\n",
      "36/36 [==============================] - 2s 63ms/step - loss: 0.9688 - accuracy: 0.5136 - val_loss: 0.9386 - val_accuracy: 0.5394\n",
      "Epoch 10/100\n",
      "36/36 [==============================] - 2s 63ms/step - loss: 0.9501 - accuracy: 0.5315 - val_loss: 0.9272 - val_accuracy: 0.5433\n",
      "Epoch 11/100\n",
      "36/36 [==============================] - 2s 63ms/step - loss: 0.9317 - accuracy: 0.5459 - val_loss: 0.9226 - val_accuracy: 0.5512\n",
      "Epoch 12/100\n",
      "36/36 [==============================] - 2s 63ms/step - loss: 0.9199 - accuracy: 0.5564 - val_loss: 0.9180 - val_accuracy: 0.5472\n",
      "Epoch 13/100\n",
      "36/36 [==============================] - 2s 63ms/step - loss: 0.9116 - accuracy: 0.5792 - val_loss: 0.9395 - val_accuracy: 0.5433\n",
      "Epoch 14/100\n",
      "36/36 [==============================] - 2s 63ms/step - loss: 0.8997 - accuracy: 0.5888 - val_loss: 0.9086 - val_accuracy: 0.5354\n",
      "Epoch 15/100\n",
      "36/36 [==============================] - 2s 63ms/step - loss: 0.8924 - accuracy: 0.5914 - val_loss: 0.8993 - val_accuracy: 0.5551\n",
      "Epoch 16/100\n",
      "36/36 [==============================] - 2s 64ms/step - loss: 0.8807 - accuracy: 0.6120 - val_loss: 0.8955 - val_accuracy: 0.5748\n",
      "Epoch 17/100\n",
      "36/36 [==============================] - 2s 63ms/step - loss: 0.8604 - accuracy: 0.6255 - val_loss: 0.8848 - val_accuracy: 0.5630\n",
      "Epoch 18/100\n",
      "36/36 [==============================] - 2s 64ms/step - loss: 0.8530 - accuracy: 0.6299 - val_loss: 0.8683 - val_accuracy: 0.5984\n",
      "Epoch 19/100\n",
      "36/36 [==============================] - 2s 63ms/step - loss: 0.8371 - accuracy: 0.6360 - val_loss: 0.8784 - val_accuracy: 0.5906\n",
      "Epoch 20/100\n",
      "36/36 [==============================] - 2s 64ms/step - loss: 0.8256 - accuracy: 0.6417 - val_loss: 0.8612 - val_accuracy: 0.5945\n",
      "Epoch 21/100\n",
      "36/36 [==============================] - 2s 66ms/step - loss: 0.8188 - accuracy: 0.6435 - val_loss: 0.8609 - val_accuracy: 0.5984\n",
      "Epoch 22/100\n",
      "36/36 [==============================] - 2s 64ms/step - loss: 0.8052 - accuracy: 0.6505 - val_loss: 0.8501 - val_accuracy: 0.6220\n",
      "Epoch 23/100\n",
      "36/36 [==============================] - 2s 64ms/step - loss: 0.8007 - accuracy: 0.6549 - val_loss: 0.8464 - val_accuracy: 0.5906\n",
      "Epoch 24/100\n",
      "36/36 [==============================] - 2s 64ms/step - loss: 0.7933 - accuracy: 0.6522 - val_loss: 0.8438 - val_accuracy: 0.6181\n",
      "Epoch 25/100\n",
      "36/36 [==============================] - 2s 64ms/step - loss: 0.7856 - accuracy: 0.6544 - val_loss: 0.8454 - val_accuracy: 0.5984\n",
      "Epoch 26/100\n",
      "36/36 [==============================] - 2s 64ms/step - loss: 0.7887 - accuracy: 0.6518 - val_loss: 0.8681 - val_accuracy: 0.5906\n",
      "Epoch 27/100\n",
      "36/36 [==============================] - 2s 63ms/step - loss: 0.7816 - accuracy: 0.6632 - val_loss: 0.8470 - val_accuracy: 0.6220\n",
      "Epoch 28/100\n",
      "36/36 [==============================] - 2s 63ms/step - loss: 0.7760 - accuracy: 0.6566 - val_loss: 0.8478 - val_accuracy: 0.6260\n",
      "Epoch 29/100\n",
      "36/36 [==============================] - 2s 63ms/step - loss: 0.7737 - accuracy: 0.6623 - val_loss: 0.8567 - val_accuracy: 0.6102\n",
      "Epoch 30/100\n",
      "36/36 [==============================] - 2s 64ms/step - loss: 0.7698 - accuracy: 0.6597 - val_loss: 0.8707 - val_accuracy: 0.5906\n",
      "Epoch 31/100\n",
      "36/36 [==============================] - 2s 63ms/step - loss: 0.7693 - accuracy: 0.6632 - val_loss: 0.8383 - val_accuracy: 0.6142\n",
      "Epoch 32/100\n",
      "36/36 [==============================] - 2s 64ms/step - loss: 0.7669 - accuracy: 0.6649 - val_loss: 0.8403 - val_accuracy: 0.6063\n",
      "Epoch 33/100\n",
      "36/36 [==============================] - 2s 63ms/step - loss: 0.7638 - accuracy: 0.6562 - val_loss: 0.8466 - val_accuracy: 0.6102\n",
      "Epoch 34/100\n",
      "36/36 [==============================] - 2s 64ms/step - loss: 0.7623 - accuracy: 0.6693 - val_loss: 0.8325 - val_accuracy: 0.6339\n",
      "Epoch 35/100\n",
      "36/36 [==============================] - 2s 64ms/step - loss: 0.7602 - accuracy: 0.6724 - val_loss: 0.8276 - val_accuracy: 0.6417\n",
      "Epoch 36/100\n",
      "36/36 [==============================] - 2s 64ms/step - loss: 0.7582 - accuracy: 0.6640 - val_loss: 0.8347 - val_accuracy: 0.6181\n",
      "Epoch 37/100\n",
      "36/36 [==============================] - 2s 64ms/step - loss: 0.7546 - accuracy: 0.6680 - val_loss: 0.8473 - val_accuracy: 0.6102\n",
      "Epoch 38/100\n",
      "36/36 [==============================] - 2s 65ms/step - loss: 0.7600 - accuracy: 0.6710 - val_loss: 0.8410 - val_accuracy: 0.6220\n",
      "Epoch 39/100\n",
      "36/36 [==============================] - 2s 63ms/step - loss: 0.7608 - accuracy: 0.6697 - val_loss: 0.8292 - val_accuracy: 0.6339\n",
      "Epoch 40/100\n",
      "36/36 [==============================] - 2s 64ms/step - loss: 0.7552 - accuracy: 0.6645 - val_loss: 0.8324 - val_accuracy: 0.6260\n",
      "Epoch 41/100\n",
      "36/36 [==============================] - 2s 64ms/step - loss: 0.7509 - accuracy: 0.6724 - val_loss: 0.8611 - val_accuracy: 0.6024\n",
      "Epoch 42/100\n",
      "36/36 [==============================] - 2s 64ms/step - loss: 0.7557 - accuracy: 0.6671 - val_loss: 0.8420 - val_accuracy: 0.6220\n",
      "Epoch 43/100\n",
      "36/36 [==============================] - 2s 64ms/step - loss: 0.7521 - accuracy: 0.6750 - val_loss: 0.8261 - val_accuracy: 0.6339\n",
      "Epoch 44/100\n",
      "36/36 [==============================] - 2s 65ms/step - loss: 0.7477 - accuracy: 0.6750 - val_loss: 0.8218 - val_accuracy: 0.6417\n",
      "Epoch 45/100\n",
      "36/36 [==============================] - 2s 64ms/step - loss: 0.7515 - accuracy: 0.6728 - val_loss: 0.8214 - val_accuracy: 0.6496\n",
      "Epoch 46/100\n",
      "36/36 [==============================] - 2s 64ms/step - loss: 0.7475 - accuracy: 0.6706 - val_loss: 0.8234 - val_accuracy: 0.6260\n",
      "Epoch 47/100\n",
      "36/36 [==============================] - 2s 65ms/step - loss: 0.7481 - accuracy: 0.6732 - val_loss: 0.8296 - val_accuracy: 0.6417\n",
      "Epoch 48/100\n",
      "36/36 [==============================] - 2s 64ms/step - loss: 0.7444 - accuracy: 0.6732 - val_loss: 0.8204 - val_accuracy: 0.6496\n",
      "Epoch 49/100\n",
      "36/36 [==============================] - 2s 65ms/step - loss: 0.7462 - accuracy: 0.6741 - val_loss: 0.8160 - val_accuracy: 0.6575\n",
      "Epoch 50/100\n",
      "36/36 [==============================] - 2s 64ms/step - loss: 0.7452 - accuracy: 0.6728 - val_loss: 0.8232 - val_accuracy: 0.6496\n",
      "Epoch 51/100\n",
      "36/36 [==============================] - 2s 64ms/step - loss: 0.7421 - accuracy: 0.6759 - val_loss: 0.8237 - val_accuracy: 0.6417\n",
      "Epoch 52/100\n",
      "36/36 [==============================] - 2s 64ms/step - loss: 0.7430 - accuracy: 0.6745 - val_loss: 0.8227 - val_accuracy: 0.6417\n",
      "Epoch 53/100\n",
      "36/36 [==============================] - 2s 63ms/step - loss: 0.7450 - accuracy: 0.6780 - val_loss: 0.8238 - val_accuracy: 0.6457\n",
      "Epoch 54/100\n",
      "36/36 [==============================] - 2s 64ms/step - loss: 0.7433 - accuracy: 0.6737 - val_loss: 0.8235 - val_accuracy: 0.6535\n",
      "Epoch 55/100\n",
      "36/36 [==============================] - 2s 64ms/step - loss: 0.7446 - accuracy: 0.6741 - val_loss: 0.8188 - val_accuracy: 0.6496\n",
      "Epoch 56/100\n",
      "36/36 [==============================] - 2s 64ms/step - loss: 0.7424 - accuracy: 0.6780 - val_loss: 0.8288 - val_accuracy: 0.6378\n",
      "Epoch 57/100\n",
      "36/36 [==============================] - 2s 64ms/step - loss: 0.7413 - accuracy: 0.6750 - val_loss: 0.8265 - val_accuracy: 0.6535\n",
      "Epoch 58/100\n",
      "36/36 [==============================] - 2s 64ms/step - loss: 0.7411 - accuracy: 0.6820 - val_loss: 0.8199 - val_accuracy: 0.6457\n",
      "Epoch 59/100\n",
      "36/36 [==============================] - 2s 64ms/step - loss: 0.7395 - accuracy: 0.6724 - val_loss: 0.8254 - val_accuracy: 0.6457\n",
      "Epoch 60/100\n",
      "36/36 [==============================] - 2s 64ms/step - loss: 0.7382 - accuracy: 0.6798 - val_loss: 0.8198 - val_accuracy: 0.6457\n",
      "Epoch 61/100\n",
      "36/36 [==============================] - 2s 64ms/step - loss: 0.7346 - accuracy: 0.6798 - val_loss: 0.8212 - val_accuracy: 0.6496\n",
      "Epoch 62/100\n",
      "36/36 [==============================] - 2s 64ms/step - loss: 0.7371 - accuracy: 0.6728 - val_loss: 0.8303 - val_accuracy: 0.6417\n",
      "Epoch 63/100\n",
      "36/36 [==============================] - 2s 64ms/step - loss: 0.7401 - accuracy: 0.6785 - val_loss: 0.8374 - val_accuracy: 0.6181\n",
      "Epoch 64/100\n",
      "36/36 [==============================] - 2s 64ms/step - loss: 0.7432 - accuracy: 0.6785 - val_loss: 0.8440 - val_accuracy: 0.6299\n",
      "Epoch 65/100\n",
      "36/36 [==============================] - 2s 64ms/step - loss: 0.7485 - accuracy: 0.6693 - val_loss: 0.8141 - val_accuracy: 0.6614\n",
      "Epoch 66/100\n",
      "36/36 [==============================] - 2s 65ms/step - loss: 0.7370 - accuracy: 0.6789 - val_loss: 0.8200 - val_accuracy: 0.6496\n",
      "Epoch 67/100\n",
      "36/36 [==============================] - 2s 64ms/step - loss: 0.7382 - accuracy: 0.6785 - val_loss: 0.8208 - val_accuracy: 0.6614\n",
      "Epoch 68/100\n",
      "36/36 [==============================] - 2s 64ms/step - loss: 0.7376 - accuracy: 0.6772 - val_loss: 0.8212 - val_accuracy: 0.6457\n",
      "Epoch 69/100\n",
      "36/36 [==============================] - 2s 64ms/step - loss: 0.7354 - accuracy: 0.6842 - val_loss: 0.8185 - val_accuracy: 0.6614\n",
      "Epoch 70/100\n",
      "36/36 [==============================] - 2s 64ms/step - loss: 0.7332 - accuracy: 0.6785 - val_loss: 0.8220 - val_accuracy: 0.6339\n",
      "Epoch 71/100\n",
      "36/36 [==============================] - 2s 64ms/step - loss: 0.7312 - accuracy: 0.6794 - val_loss: 0.8141 - val_accuracy: 0.6654\n",
      "Epoch 72/100\n",
      "36/36 [==============================] - 2s 65ms/step - loss: 0.7331 - accuracy: 0.6815 - val_loss: 0.8134 - val_accuracy: 0.6614\n",
      "Epoch 73/100\n",
      "36/36 [==============================] - 2s 64ms/step - loss: 0.7334 - accuracy: 0.6850 - val_loss: 0.8200 - val_accuracy: 0.6535\n",
      "Epoch 74/100\n",
      "36/36 [==============================] - 2s 64ms/step - loss: 0.7304 - accuracy: 0.6785 - val_loss: 0.8135 - val_accuracy: 0.6575\n",
      "Epoch 75/100\n",
      "36/36 [==============================] - 2s 64ms/step - loss: 0.7300 - accuracy: 0.6864 - val_loss: 0.8145 - val_accuracy: 0.6575\n",
      "Epoch 76/100\n",
      "36/36 [==============================] - 2s 64ms/step - loss: 0.7265 - accuracy: 0.6868 - val_loss: 0.8213 - val_accuracy: 0.6457\n",
      "Epoch 77/100\n",
      "36/36 [==============================] - 2s 64ms/step - loss: 0.7268 - accuracy: 0.6903 - val_loss: 0.8171 - val_accuracy: 0.6575\n",
      "Epoch 78/100\n",
      "36/36 [==============================] - 2s 64ms/step - loss: 0.7292 - accuracy: 0.6925 - val_loss: 0.8122 - val_accuracy: 0.6535\n",
      "Epoch 79/100\n",
      "36/36 [==============================] - 2s 64ms/step - loss: 0.7273 - accuracy: 0.6798 - val_loss: 0.8272 - val_accuracy: 0.6417\n",
      "Epoch 80/100\n",
      "36/36 [==============================] - 2s 64ms/step - loss: 0.7249 - accuracy: 0.6885 - val_loss: 0.8321 - val_accuracy: 0.6417\n",
      "Epoch 81/100\n",
      "36/36 [==============================] - 2s 64ms/step - loss: 0.7244 - accuracy: 0.6850 - val_loss: 0.8203 - val_accuracy: 0.6535\n",
      "Epoch 82/100\n",
      "36/36 [==============================] - 2s 64ms/step - loss: 0.7251 - accuracy: 0.6877 - val_loss: 0.8195 - val_accuracy: 0.6693\n",
      "Epoch 83/100\n",
      "36/36 [==============================] - 2s 65ms/step - loss: 0.7234 - accuracy: 0.6903 - val_loss: 0.8064 - val_accuracy: 0.6614\n",
      "Epoch 84/100\n",
      "36/36 [==============================] - 2s 65ms/step - loss: 0.7241 - accuracy: 0.6829 - val_loss: 0.8124 - val_accuracy: 0.6654\n",
      "Epoch 85/100\n",
      "36/36 [==============================] - 2s 64ms/step - loss: 0.7222 - accuracy: 0.6942 - val_loss: 0.8182 - val_accuracy: 0.6693\n",
      "Epoch 86/100\n",
      "36/36 [==============================] - 2s 65ms/step - loss: 0.7270 - accuracy: 0.6802 - val_loss: 0.8077 - val_accuracy: 0.6654\n",
      "Epoch 87/100\n",
      "36/36 [==============================] - 2s 64ms/step - loss: 0.7203 - accuracy: 0.6947 - val_loss: 0.8219 - val_accuracy: 0.6535\n",
      "Epoch 88/100\n",
      "36/36 [==============================] - 2s 64ms/step - loss: 0.7170 - accuracy: 0.6938 - val_loss: 0.8100 - val_accuracy: 0.6614\n",
      "Epoch 89/100\n",
      "36/36 [==============================] - 2s 64ms/step - loss: 0.7178 - accuracy: 0.6859 - val_loss: 0.8287 - val_accuracy: 0.6457\n",
      "Epoch 90/100\n",
      "36/36 [==============================] - 2s 64ms/step - loss: 0.7228 - accuracy: 0.6912 - val_loss: 0.8092 - val_accuracy: 0.6772\n",
      "Epoch 91/100\n",
      "36/36 [==============================] - 2s 63ms/step - loss: 0.7206 - accuracy: 0.6899 - val_loss: 0.8184 - val_accuracy: 0.6732\n",
      "Epoch 92/100\n",
      "36/36 [==============================] - 2s 64ms/step - loss: 0.7253 - accuracy: 0.6824 - val_loss: 0.8206 - val_accuracy: 0.6654\n",
      "Epoch 93/100\n",
      "36/36 [==============================] - 2s 64ms/step - loss: 0.7171 - accuracy: 0.6912 - val_loss: 0.8291 - val_accuracy: 0.6575\n",
      "Epoch 94/100\n",
      "36/36 [==============================] - 2s 65ms/step - loss: 0.7227 - accuracy: 0.6890 - val_loss: 0.8242 - val_accuracy: 0.6496\n",
      "Epoch 95/100\n",
      "36/36 [==============================] - 2s 64ms/step - loss: 0.7172 - accuracy: 0.6973 - val_loss: 0.8145 - val_accuracy: 0.6732\n",
      "Epoch 96/100\n",
      "36/36 [==============================] - 2s 64ms/step - loss: 0.7150 - accuracy: 0.6916 - val_loss: 0.8254 - val_accuracy: 0.6614\n",
      "Epoch 97/100\n",
      "36/36 [==============================] - 2s 64ms/step - loss: 0.7157 - accuracy: 0.6942 - val_loss: 0.8189 - val_accuracy: 0.6732\n",
      "Epoch 98/100\n",
      "36/36 [==============================] - 2s 64ms/step - loss: 0.7169 - accuracy: 0.6934 - val_loss: 0.8167 - val_accuracy: 0.6654\n",
      "Epoch 99/100\n",
      "36/36 [==============================] - 2s 65ms/step - loss: 0.7108 - accuracy: 0.6964 - val_loss: 0.8173 - val_accuracy: 0.6654\n",
      "Epoch 100/100\n",
      "36/36 [==============================] - 2s 64ms/step - loss: 0.7098 - accuracy: 0.6903 - val_loss: 0.8237 - val_accuracy: 0.6693\n"
     ]
    },
    {
     "data": {
      "text/plain": [
       "<keras.callbacks.History at 0x21bf04ab9d0>"
      ]
     },
     "execution_count": 129,
     "metadata": {},
     "output_type": "execute_result"
    }
   ],
   "source": [
    "mc = ModelCheckpoint('best-weights.h5', monitor='val_loss', save_best_only=True, save_weights_only=True)\n",
    "lstm.fit(np.array(x_train), np.array(y_train), epochs=100, verbose=1, batch_size=64, callbacks=[mc], validation_data=(x_test, np.array(y_test)))"
   ]
  },
  {
   "cell_type": "code",
   "execution_count": null,
   "id": "6a980155",
   "metadata": {},
   "outputs": [
    {
     "name": "stdout",
     "output_type": "stream",
     "text": [
      "3/3 [==============================] - 1s 36ms/step - loss: 10.0673 - accuracy: 0.5571\n",
      "Test accuracy: 55.714285373687744\n"
     ]
    }
   ],
   "source": [
    "lstm_score = lstm.evaluate(x_test, np.array(y_test), verbose=1)\n",
    "lstm_acc = lstm_score[1]*100\n",
    "print(f'Test accuracy: {lstm_acc}')"
   ]
  }
 ],
 "metadata": {
  "kernelspec": {
   "display_name": "Python 3.10.6 64-bit (windows store)",
   "language": "python",
   "name": "python3"
  },
  "language_info": {
   "codemirror_mode": {
    "name": "ipython",
    "version": 3
   },
   "file_extension": ".py",
   "mimetype": "text/x-python",
   "name": "python",
   "nbconvert_exporter": "python",
   "pygments_lexer": "ipython3",
   "version": "3.10.6"
  },
  "vscode": {
   "interpreter": {
    "hash": "506c7cd5f11c76d07d3fb12eb0803be97b690f1666932904271a8a04a8fd81e9"
   }
  }
 },
 "nbformat": 4,
 "nbformat_minor": 5
}
