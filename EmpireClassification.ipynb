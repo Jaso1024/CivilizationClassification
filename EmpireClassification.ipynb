{
 "cells": [
  {
   "cell_type": "code",
   "execution_count": 1,
   "id": "9cf46f4a",
   "metadata": {},
   "outputs": [],
   "source": [
    "import nltk\n",
    "from nltk.stem import WordNetLemmatizer\n",
    "from nltk.corpus import stopwords\n",
    "\n",
    "from sklearn.feature_extraction.text import TfidfVectorizer, CountVectorizer\n",
    "from sklearn.tree import DecisionTreeClassifier\n",
    "from sklearn.ensemble import RandomForestClassifier\n",
    "from sklearn.svm import SVC as SupportVectorClassifier\n",
    "from sklearn.linear_model import LogisticRegression\n",
    "from sklearn.model_selection import train_test_split\n",
    "from sklearn.preprocessing import LabelEncoder\n",
    "\n",
    "import tensorflow as tf\n",
    "from tensorflow.keras.layers import Dense, LSTM, Embedding, Bidirectional, Dropout, BatchNormalization\n",
    "from tensorflow.keras.models import Sequential, Model\n",
    "from keras.optimizers import Adam, Nadam, Adamax, Adadelta, Adagrad\n",
    "from tensorflow.keras.callbacks import EarlyStopping\n",
    "from tensorflow.keras.preprocessing.text import one_hot\n",
    "from tensorflow.keras.preprocessing.sequence import pad_sequences\n",
    "from tensorflow_addons.activations import mish\n",
    "from tensorflow.keras.callbacks import EarlyStopping, ModelCheckpoint\n",
    "\n",
    "import sys\n",
    "import re\n",
    "import numpy as np\n",
    "import pandas as pd\n",
    "import random\n",
    "import contractions\n",
    "import seaborn as sns\n",
    "import matplotlib.pyplot as plt\n",
    "\n",
    "from collections import deque, Counter\n",
    "from itertools import permutations, repeat, combinations"
   ]
  },
  {
   "cell_type": "code",
   "execution_count": 2,
   "id": "0429344c",
   "metadata": {},
   "outputs": [],
   "source": [
    "empires = []\n",
    "vectorizer = CountVectorizer()\n",
    "min_sentence_length = 5"
   ]
  },
  {
   "cell_type": "code",
   "execution_count": 3,
   "id": "82d4217e",
   "metadata": {},
   "outputs": [],
   "source": [
    "with open(\"Resources/Data/EmpireText.txt\", \"r\", encoding=\"utf8\") as file:\n",
    "    line = file.readline().replace(\"\\n\", \"\").split(\" \")\n",
    "    for empire in line:\n",
    "        empires.append(empire)"
   ]
  },
  {
   "cell_type": "code",
   "execution_count": 4,
   "id": "e6852b1b",
   "metadata": {},
   "outputs": [],
   "source": [
    "def format_sentence(sentence, current_empire):\n",
    "        if len(sentence.split(\" \")) > min_sentence_length:\n",
    "            sentence = contractions.fix(sentence)\n",
    "            contains_other_empire = False\n",
    "            for empire in empires:\n",
    "                if empire == current_empire:\n",
    "                    continue\n",
    "                elif re.search(empire.lower(), sentence.lower()) is not None:\n",
    "                    contains_other_empire = True\n",
    "\n",
    "            if not contains_other_empire:\n",
    "                return sentence.strip()\n",
    "\n",
    "text = []\n",
    "labels = []\n",
    "with open(\"Resources/Data/EmpireText.txt\", \"r\", encoding=\"utf8\") as file: \n",
    "    for line in file.readlines()[1:]:\n",
    "        line = line.strip()\n",
    "        line = line.replace(\"\\n\", \"\")\n",
    "        line = re.sub(\"\\[.{0,4}]\", \"\", line) \n",
    "        line = line.replace(\"C.\", \"C\")\n",
    "        line = line.replace(\"E.\", \"E\")\n",
    "        line = line.replace(\"D.\", \"D\")\n",
    "        \n",
    "        if line in empires:\n",
    "            current_empire = line\n",
    "            continue\n",
    "        elif len(line.replace(\" \", \"\")) < min_sentence_length:\n",
    "            continue\n",
    "        elif len(line.split(\" \")) < min_sentence_length:\n",
    "            continue\n",
    "        elif line[-1] != \".\":\n",
    "            line += \".\"\n",
    "    \n",
    "        line = nltk.sent_tokenize(line)\n",
    "        for sentence in line:\n",
    "            sentence = format_sentence(sentence, current_empire)\n",
    "            if sentence is not None:\n",
    "                text.append(sentence)\n",
    "                labels.append(current_empire)\n",
    "            \n",
    "data = pd.DataFrame({\"label\":labels, \"text\":text})"
   ]
  },
  {
   "cell_type": "markdown",
   "id": "769e0173",
   "metadata": {},
   "source": [
    "# Data Visualization"
   ]
  },
  {
   "cell_type": "markdown",
   "id": "32657aad",
   "metadata": {},
   "source": [
    "## Training Data"
   ]
  },
  {
   "cell_type": "code",
   "execution_count": 5,
   "id": "a3519ef7",
   "metadata": {},
   "outputs": [
    {
     "data": {
      "text/html": [
       "<div>\n",
       "<style scoped>\n",
       "    .dataframe tbody tr th:only-of-type {\n",
       "        vertical-align: middle;\n",
       "    }\n",
       "\n",
       "    .dataframe tbody tr th {\n",
       "        vertical-align: top;\n",
       "    }\n",
       "\n",
       "    .dataframe thead th {\n",
       "        text-align: right;\n",
       "    }\n",
       "</style>\n",
       "<table border=\"1\" class=\"dataframe\">\n",
       "  <thead>\n",
       "    <tr style=\"text-align: right;\">\n",
       "      <th></th>\n",
       "      <th>label</th>\n",
       "      <th>text</th>\n",
       "    </tr>\n",
       "  </thead>\n",
       "  <tbody>\n",
       "    <tr>\n",
       "      <th>0</th>\n",
       "      <td>Roman</td>\n",
       "      <td>The Roman Empire, the ancient empire, centred ...</td>\n",
       "    </tr>\n",
       "    <tr>\n",
       "      <th>1</th>\n",
       "      <td>Spanish</td>\n",
       "      <td>The Spanish Empire (Spanish: Imperio españold)...</td>\n",
       "    </tr>\n",
       "    <tr>\n",
       "      <th>2</th>\n",
       "      <td>Russian</td>\n",
       "      <td>The Russian Empire, also known as Imperial Rus...</td>\n",
       "    </tr>\n",
       "    <tr>\n",
       "      <th>3</th>\n",
       "      <td>Roman</td>\n",
       "      <td>A period of unrest and civil wars in the 1st c...</td>\n",
       "    </tr>\n",
       "    <tr>\n",
       "      <th>4</th>\n",
       "      <td>Roman</td>\n",
       "      <td>This period encompassed the career of Julius C...</td>\n",
       "    </tr>\n",
       "  </tbody>\n",
       "</table>\n",
       "</div>"
      ],
      "text/plain": [
       "     label                                               text\n",
       "0    Roman  The Roman Empire, the ancient empire, centred ...\n",
       "1  Spanish  The Spanish Empire (Spanish: Imperio españold)...\n",
       "2  Russian  The Russian Empire, also known as Imperial Rus...\n",
       "3    Roman  A period of unrest and civil wars in the 1st c...\n",
       "4    Roman  This period encompassed the career of Julius C..."
      ]
     },
     "execution_count": 5,
     "metadata": {},
     "output_type": "execute_result"
    }
   ],
   "source": [
    "data.head()"
   ]
  },
  {
   "cell_type": "code",
   "execution_count": 6,
   "id": "e2a2a062",
   "metadata": {},
   "outputs": [
    {
     "name": "stdout",
     "output_type": "stream",
     "text": [
      "<class 'pandas.core.frame.DataFrame'>\n",
      "RangeIndex: 3169 entries, 0 to 3168\n",
      "Data columns (total 2 columns):\n",
      " #   Column  Non-Null Count  Dtype \n",
      "---  ------  --------------  ----- \n",
      " 0   label   3169 non-null   object\n",
      " 1   text    3169 non-null   object\n",
      "dtypes: object(2)\n",
      "memory usage: 49.6+ KB\n"
     ]
    }
   ],
   "source": [
    "data.info()"
   ]
  },
  {
   "cell_type": "code",
   "execution_count": 7,
   "id": "0567be82",
   "metadata": {},
   "outputs": [
    {
     "data": {
      "text/plain": [
       "Roman      1254\n",
       "Russian    1004\n",
       "Spanish     911\n",
       "Name: label, dtype: int64"
      ]
     },
     "execution_count": 7,
     "metadata": {},
     "output_type": "execute_result"
    }
   ],
   "source": [
    "training_value_counts = data[\"label\"].value_counts()\n",
    "training_value_counts"
   ]
  },
  {
   "cell_type": "markdown",
   "id": "465d156b",
   "metadata": {},
   "source": [
    "# Text classification:\n",
    "### The process of text classification is comprised of 4 main steps\n",
    "#### - Preprocessing the text\n",
    "#### - Encoding labels\n",
    "#### - Vectorizing the text\n",
    "#### - Training the model(s)\n",
    "***"
   ]
  },
  {
   "cell_type": "markdown",
   "id": "b562a889",
   "metadata": {},
   "source": [
    "## Text preprocessing\n",
    "### Steps:\n",
    "- Lowercasing\n",
    "- Tokenization\n",
    "- POS tagging\n",
    "- Lemmatization\n",
    "\n",
    "Note: When tested, the models showed better results without the removal of stopwords"
   ]
  },
  {
   "cell_type": "markdown",
   "id": "a96bdb28",
   "metadata": {},
   "source": [
    "### Example:"
   ]
  },
  {
   "cell_type": "code",
   "execution_count": 8,
   "id": "599815ec",
   "metadata": {
    "scrolled": true
   },
   "outputs": [
    {
     "name": "stdout",
     "output_type": "stream",
     "text": [
      "Spanish empire:\n"
     ]
    },
    {
     "data": {
      "text/plain": [
       "'The Spanish Empire (Spanish: Imperio españold), also known as the Hispanic Monarchy (Spanish: Monarquía Hispánica) or the Catholic Monarchy (Spanish: Monarquía Católica) was a colonial empire governed by Spain and its predecessor states between 1492 and 1976.'"
      ]
     },
     "execution_count": 8,
     "metadata": {},
     "output_type": "execute_result"
    }
   ],
   "source": [
    "example_paragraph = data['text'][1]\n",
    "example_paragraph = \"\".join(example_paragraph)\n",
    "print(data['label'][1], \"empire:\")\n",
    "example_paragraph"
   ]
  },
  {
   "cell_type": "code",
   "execution_count": 9,
   "id": "b2fc66e2",
   "metadata": {},
   "outputs": [
    {
     "data": {
      "text/plain": [
       "'the spanish empire (spanish: imperio españold), also known as the hispanic monarchy (spanish: monarquía hispánica) or the catholic monarchy (spanish: monarquía católica) was a colonial empire governed by spain and its predecessor states between 1492 and 1976.'"
      ]
     },
     "execution_count": 9,
     "metadata": {},
     "output_type": "execute_result"
    }
   ],
   "source": [
    "lowercase_paragraph = example_paragraph.lower()\n",
    "lowercase_paragraph"
   ]
  },
  {
   "cell_type": "code",
   "execution_count": 10,
   "id": "dfccf56c",
   "metadata": {},
   "outputs": [
    {
     "name": "stdout",
     "output_type": "stream",
     "text": [
      "'the', 'spanish', 'empire', '(', 'spanish', ':', 'imperio', 'españold', ')', ',', 'also', 'known', 'as', 'the', 'hispanic', 'monarchy', '(', 'spanish', ':', 'monarquía', 'hispánica', ')', 'or', 'the', 'catholic', 'monarchy', '(', 'spanish', ':', 'monarquía', 'católica', ')', 'was', 'a', 'colonial', 'empire', 'governed', 'by', 'spain', 'and', 'its', 'predecessor', 'states', 'between', '1492', 'and', '1976', '.', "
     ]
    }
   ],
   "source": [
    "tokenized_paragraph = nltk.word_tokenize(lowercase_paragraph)\n",
    "for word in tokenized_paragraph:\n",
    "    print(f\"'{word}'\", end=\", \")"
   ]
  },
  {
   "cell_type": "code",
   "execution_count": 11,
   "id": "48bd2b86",
   "metadata": {},
   "outputs": [
    {
     "name": "stdout",
     "output_type": "stream",
     "text": [
      "('the', 'DT'), ('spanish', 'JJ'), ('empire', 'NN'), ('(', '('), ('spanish', 'JJ'), (':', ':'), ('imperio', 'NN'), ('españold', 'NN'), (')', ')'), (',', ','), ('also', 'RB'), ('known', 'VBN'), ('as', 'IN'), ('the', 'DT'), ('hispanic', 'JJ'), ('monarchy', 'NN'), ('(', '('), ('spanish', 'JJ'), (':', ':'), ('monarquía', 'NN'), ('hispánica', 'NN'), (')', ')'), ('or', 'CC'), ('the', 'DT'), ('catholic', 'JJ'), ('monarchy', 'NN'), ('(', '('), ('spanish', 'JJ'), (':', ':'), ('monarquía', 'NN'), ('católica', 'NN'), (')', ')'), ('was', 'VBD'), ('a', 'DT'), ('colonial', 'JJ'), ('empire', 'NN'), ('governed', 'VBN'), ('by', 'IN'), ('spain', 'NN'), ('and', 'CC'), ('its', 'PRP$'), ('predecessor', 'NN'), ('states', 'NNS'), ('between', 'IN'), ('1492', 'CD'), ('and', 'CC'), ('1976', 'CD'), ('.', '.'), "
     ]
    }
   ],
   "source": [
    "tagged_paragraph = nltk.pos_tag(tokenized_paragraph)\n",
    "for word in tagged_paragraph:\n",
    "    print(word, end=', ')"
   ]
  },
  {
   "cell_type": "code",
   "execution_count": 12,
   "id": "41ddf9c3",
   "metadata": {
    "scrolled": true
   },
   "outputs": [
    {
     "name": "stdout",
     "output_type": "stream",
     "text": [
      "'the', 'spanish', 'empire', '(', 'spanish', ':', 'imperio', 'españold', ')', ',', 'also', 'know', 'a', 'the', 'hispanic', 'monarchy', '(', 'spanish', ':', 'monarquía', 'hispánica', ')', 'or', 'the', 'catholic', 'monarchy', '(', 'spanish', ':', 'monarquía', 'católica', ')', 'be', 'a', 'colonial', 'empire', 'govern', 'by', 'spain', 'and', 'it', 'predecessor', 'state', 'between', '1492', 'and', '1976', '.', "
     ]
    }
   ],
   "source": [
    "def get_pos(tag):    \n",
    "    if tag.startswith('J'):\n",
    "        return nltk.corpus.wordnet.ADJ\n",
    "    elif tag.startswith('V'):\n",
    "        return nltk.corpus.wordnet.VERB\n",
    "    elif tag.startswith('N'):\n",
    "        return nltk.corpus.wordnet.NOUN\n",
    "    elif tag.startswith('R'):\n",
    "        return nltk.corpus.wordnet.ADV\n",
    "    else:\n",
    "        return nltk.corpus.wordnet.NOUN\n",
    "        \n",
    "wnl = WordNetLemmatizer()\n",
    "lemmatized_sentence = [wnl.lemmatize(word, get_pos(pos)) for word, pos in tagged_paragraph]\n",
    "for word in lemmatized_sentence:\n",
    "    print(f\"'{word}'\", end=\", \")"
   ]
  },
  {
   "cell_type": "markdown",
   "id": "0931ffa2",
   "metadata": {},
   "source": [
    "### Application"
   ]
  },
  {
   "cell_type": "code",
   "execution_count": 13,
   "id": "3e009df0",
   "metadata": {},
   "outputs": [],
   "source": [
    "sentences = []\n",
    "labels = []\n",
    "wnl = WordNetLemmatizer()\n",
    "stop_words = set(stopwords.words('english'))\n",
    "for row in data.iterrows():\n",
    "    label = row[1]['label']\n",
    "    text = row[1]['text']\n",
    "    text = nltk.word_tokenize(text)\n",
    "    text = [w.lower() for w in text if not w.lower() in stop_words]\n",
    "    text = nltk.pos_tag(text)\n",
    "    text = [wnl.lemmatize(word, get_pos(pos)) for word, pos in text]\n",
    "    sentences.append(text)\n",
    "    labels.append(label)\n",
    "\n",
    "preprocessed_data = pd.DataFrame({\"label\":labels, \"text\":sentences})"
   ]
  },
  {
   "cell_type": "code",
   "execution_count": 14,
   "id": "6fc53e58",
   "metadata": {
    "scrolled": true
   },
   "outputs": [
    {
     "data": {
      "text/html": [
       "<div>\n",
       "<style scoped>\n",
       "    .dataframe tbody tr th:only-of-type {\n",
       "        vertical-align: middle;\n",
       "    }\n",
       "\n",
       "    .dataframe tbody tr th {\n",
       "        vertical-align: top;\n",
       "    }\n",
       "\n",
       "    .dataframe thead th {\n",
       "        text-align: right;\n",
       "    }\n",
       "</style>\n",
       "<table border=\"1\" class=\"dataframe\">\n",
       "  <thead>\n",
       "    <tr style=\"text-align: right;\">\n",
       "      <th></th>\n",
       "      <th>label</th>\n",
       "      <th>text</th>\n",
       "    </tr>\n",
       "  </thead>\n",
       "  <tbody>\n",
       "    <tr>\n",
       "      <th>0</th>\n",
       "      <td>Roman</td>\n",
       "      <td>[roman, empire, ,, ancient, empire, ,, centre,...</td>\n",
       "    </tr>\n",
       "    <tr>\n",
       "      <th>1</th>\n",
       "      <td>Spanish</td>\n",
       "      <td>[spanish, empire, (, spanish, :, imperio, espa...</td>\n",
       "    </tr>\n",
       "    <tr>\n",
       "      <th>2</th>\n",
       "      <td>Russian</td>\n",
       "      <td>[russian, empire, ,, also, know, imperial, rus...</td>\n",
       "    </tr>\n",
       "    <tr>\n",
       "      <th>3</th>\n",
       "      <td>Roman</td>\n",
       "      <td>[period, unrest, civil, war, 1st, century, bce...</td>\n",
       "    </tr>\n",
       "    <tr>\n",
       "      <th>4</th>\n",
       "      <td>Roman</td>\n",
       "      <td>[period, encompass, career, julius, caesar, ,,...</td>\n",
       "    </tr>\n",
       "  </tbody>\n",
       "</table>\n",
       "</div>"
      ],
      "text/plain": [
       "     label                                               text\n",
       "0    Roman  [roman, empire, ,, ancient, empire, ,, centre,...\n",
       "1  Spanish  [spanish, empire, (, spanish, :, imperio, espa...\n",
       "2  Russian  [russian, empire, ,, also, know, imperial, rus...\n",
       "3    Roman  [period, unrest, civil, war, 1st, century, bce...\n",
       "4    Roman  [period, encompass, career, julius, caesar, ,,..."
      ]
     },
     "execution_count": 14,
     "metadata": {},
     "output_type": "execute_result"
    }
   ],
   "source": [
    "preprocessed_data.head()"
   ]
  },
  {
   "cell_type": "markdown",
   "id": "5a16fa89",
   "metadata": {},
   "source": [
    "## Label Encoding"
   ]
  },
  {
   "cell_type": "code",
   "execution_count": 15,
   "id": "5f74b9b4",
   "metadata": {
    "scrolled": true
   },
   "outputs": [],
   "source": [
    "labels = []\n",
    "for label in preprocessed_data['label']:\n",
    "    labels.append(empires.index(label))\n",
    "preprocessed_data['label'] = labels"
   ]
  },
  {
   "cell_type": "code",
   "execution_count": 16,
   "id": "7f1fcf2f",
   "metadata": {},
   "outputs": [
    {
     "data": {
      "text/html": [
       "<div>\n",
       "<style scoped>\n",
       "    .dataframe tbody tr th:only-of-type {\n",
       "        vertical-align: middle;\n",
       "    }\n",
       "\n",
       "    .dataframe tbody tr th {\n",
       "        vertical-align: top;\n",
       "    }\n",
       "\n",
       "    .dataframe thead th {\n",
       "        text-align: right;\n",
       "    }\n",
       "</style>\n",
       "<table border=\"1\" class=\"dataframe\">\n",
       "  <thead>\n",
       "    <tr style=\"text-align: right;\">\n",
       "      <th></th>\n",
       "      <th>label</th>\n",
       "      <th>text</th>\n",
       "    </tr>\n",
       "  </thead>\n",
       "  <tbody>\n",
       "    <tr>\n",
       "      <th>0</th>\n",
       "      <td>0</td>\n",
       "      <td>[roman, empire, ,, ancient, empire, ,, centre,...</td>\n",
       "    </tr>\n",
       "    <tr>\n",
       "      <th>1</th>\n",
       "      <td>1</td>\n",
       "      <td>[spanish, empire, (, spanish, :, imperio, espa...</td>\n",
       "    </tr>\n",
       "    <tr>\n",
       "      <th>2</th>\n",
       "      <td>2</td>\n",
       "      <td>[russian, empire, ,, also, know, imperial, rus...</td>\n",
       "    </tr>\n",
       "    <tr>\n",
       "      <th>3</th>\n",
       "      <td>0</td>\n",
       "      <td>[period, unrest, civil, war, 1st, century, bce...</td>\n",
       "    </tr>\n",
       "    <tr>\n",
       "      <th>4</th>\n",
       "      <td>0</td>\n",
       "      <td>[period, encompass, career, julius, caesar, ,,...</td>\n",
       "    </tr>\n",
       "  </tbody>\n",
       "</table>\n",
       "</div>"
      ],
      "text/plain": [
       "   label                                               text\n",
       "0      0  [roman, empire, ,, ancient, empire, ,, centre,...\n",
       "1      1  [spanish, empire, (, spanish, :, imperio, espa...\n",
       "2      2  [russian, empire, ,, also, know, imperial, rus...\n",
       "3      0  [period, unrest, civil, war, 1st, century, bce...\n",
       "4      0  [period, encompass, career, julius, caesar, ,,..."
      ]
     },
     "execution_count": 16,
     "metadata": {},
     "output_type": "execute_result"
    }
   ],
   "source": [
    "preprocessed_data.head()"
   ]
  },
  {
   "cell_type": "markdown",
   "id": "09743410",
   "metadata": {},
   "source": [
    "## Text Vectorization"
   ]
  },
  {
   "cell_type": "code",
   "execution_count": 17,
   "id": "f925ebb4",
   "metadata": {},
   "outputs": [],
   "source": [
    "vectorizer = CountVectorizer()\n",
    "text = []\n",
    "for sentence in preprocessed_data['text']:\n",
    "    text.append(\" \".join(sentence))\n",
    "vectorizer.fit(text)\n",
    "vectorized_text = vectorizer.transform(text)"
   ]
  },
  {
   "cell_type": "markdown",
   "id": "5502c356",
   "metadata": {},
   "source": [
    "## Training the models"
   ]
  },
  {
   "cell_type": "code",
   "execution_count": 18,
   "id": "f08fa455",
   "metadata": {},
   "outputs": [
    {
     "name": "stdout",
     "output_type": "stream",
     "text": [
      "len 3169\n"
     ]
    }
   ],
   "source": [
    "def get_unique_words(data):\n",
    "        unique_words = set()\n",
    "        print(\"len\", len(data))\n",
    "        for sentence in data:\n",
    "                for word in sentence:\n",
    "                    unique_words.add(word)\n",
    "        return len(unique_words)\n",
    "num_uniques = get_unique_words(preprocessed_data['text'])"
   ]
  },
  {
   "cell_type": "code",
   "execution_count": 19,
   "id": "0af671e6",
   "metadata": {},
   "outputs": [],
   "source": [
    "text = vectorized_text\n",
    "labels = preprocessed_data['label']\n",
    "x_train, x_test, y_train, y_test = train_test_split(text, labels, test_size=.1, random_state=0)"
   ]
  },
  {
   "cell_type": "markdown",
   "id": "0b0097ae",
   "metadata": {},
   "source": [
    "#### Decision Tree"
   ]
  },
  {
   "cell_type": "code",
   "execution_count": 20,
   "id": "a962d610",
   "metadata": {},
   "outputs": [
    {
     "data": {
      "text/plain": [
       "85.8044164037855"
      ]
     },
     "execution_count": 20,
     "metadata": {},
     "output_type": "execute_result"
    }
   ],
   "source": [
    "decision_tree = DecisionTreeClassifier(random_state=2, max_depth=150, max_features=1000)\n",
    "decision_tree.fit(x_train, y_train)\n",
    "decision_tree_score = decision_tree.score(x_test, y_test)*100\n",
    "decision_tree_score"
   ]
  },
  {
   "cell_type": "markdown",
   "id": "e782ac3b",
   "metadata": {},
   "source": [
    "#### Random Forest"
   ]
  },
  {
   "cell_type": "code",
   "execution_count": 21,
   "id": "c0847116",
   "metadata": {},
   "outputs": [
    {
     "data": {
      "text/plain": [
       "89.27444794952682"
      ]
     },
     "execution_count": 21,
     "metadata": {},
     "output_type": "execute_result"
    }
   ],
   "source": [
    "random_forest = RandomForestClassifier(random_state=0, n_estimators=300, max_depth=150, max_features=1000)\n",
    "random_forest.fit(x_train, y_train)\n",
    "random_forest_score = random_forest.score(x_test, y_test)*100\n",
    "random_forest_score"
   ]
  },
  {
   "cell_type": "markdown",
   "id": "e9a032c1",
   "metadata": {},
   "source": [
    "#### Support Vector Machine"
   ]
  },
  {
   "cell_type": "code",
   "execution_count": 22,
   "id": "b9251f13",
   "metadata": {},
   "outputs": [
    {
     "data": {
      "text/plain": [
       "89.58990536277602"
      ]
     },
     "execution_count": 22,
     "metadata": {},
     "output_type": "execute_result"
    }
   ],
   "source": [
    "best_c = 0.1\n",
    "best_kernel = \"linear\"\n",
    "support_vector_machine = SupportVectorClassifier(kernel=best_kernel, C=best_c)\n",
    "support_vector_machine.fit(x_train, y_train)\n",
    "support_vector_machine_score = support_vector_machine.score(x_test, y_test)*100\n",
    "support_vector_machine_score"
   ]
  },
  {
   "cell_type": "markdown",
   "id": "fd2560e5",
   "metadata": {},
   "source": [
    "### Long Short Term Memory"
   ]
  },
  {
   "cell_type": "markdown",
   "id": "91b8895a",
   "metadata": {},
   "source": [
    "Sidenote: while one could convert x_Train from SparseTensor to array it causes the lstm model to have low accuracy and take 20 min per epoch, so its better to just format the data with tensorflow methods to convert it to a format that tensorflow is better equipped to handle."
   ]
  },
  {
   "cell_type": "code",
   "execution_count": 23,
   "id": "5b8cc854",
   "metadata": {},
   "outputs": [
    {
     "name": "stdout",
     "output_type": "stream",
     "text": [
      "input example: [5944 4688 2229 6791 6113 7260 4041 2362 2580 2628 8305 2410 7457 4688\n",
      " 8379 6791 6113 4588 6531 3166    1 3172   36    0    0    0    0    0\n",
      "    0    0    0    0    0    0    0    0    0    0    0    0    0    0\n",
      "    0    0    0    0    0    0    0    0    0    0    0    0    0    0\n",
      "    0    0    0    0    0    0    0    0    0    0    0    0    0    0\n",
      "    0    0    0    0    0    0    0    0    0    0    0]\n",
      "label example: [1. 0. 0.]\n"
     ]
    }
   ],
   "source": [
    "text = preprocessed_data['text']\n",
    "labels = preprocessed_data['label']\n",
    "longest_sentence = max(text, key=lambda x: len(x))\n",
    "encoded_sentences = [one_hot(\" \".join(sentence), num_uniques) for sentence in text]\n",
    "padded_sequences = pad_sequences(encoded_sentences, maxlen=len(longest_sentence), padding='post')\n",
    "\n",
    "def encode_labels(labels):\n",
    "    output = []\n",
    "    for label in labels:\n",
    "        label_array = np.zeros(len(empires))\n",
    "        label_array[label] = 1    \n",
    "        output.append(label_array)\n",
    "    return output\n",
    "\n",
    "labels = encode_labels(labels)\n",
    "x_train, x_test, y_train, y_test = train_test_split(padded_sequences, labels, train_size=.66, random_state=42)\n",
    "print(\"input example:\", x_train[0])\n",
    "print(\"label example:\", y_train[0])"
   ]
  },
  {
   "cell_type": "code",
   "execution_count": 24,
   "id": "882c282e",
   "metadata": {},
   "outputs": [
    {
     "name": "stdout",
     "output_type": "stream",
     "text": [
      "Model: \"sequential\"\n",
      "_________________________________________________________________\n",
      " Layer (type)                Output Shape              Param #   \n",
      "=================================================================\n",
      " embedding (Embedding)       (None, None, 128)         1152896   \n",
      "                                                                 \n",
      " bidirectional (Bidirectiona  (None, 128)              98816     \n",
      " l)                                                              \n",
      "                                                                 \n",
      " dense (Dense)               (None, 256)               33024     \n",
      "                                                                 \n",
      " dropout (Dropout)           (None, 256)               0         \n",
      "                                                                 \n",
      " dense_1 (Dense)             (None, 128)               32896     \n",
      "                                                                 \n",
      " dense_2 (Dense)             (None, 3)                 387       \n",
      "                                                                 \n",
      "=================================================================\n",
      "Total params: 1,318,019\n",
      "Trainable params: 1,318,019\n",
      "Non-trainable params: 0\n",
      "_________________________________________________________________\n"
     ]
    }
   ],
   "source": [
    "lstm = Sequential()\n",
    "lstm.add(Embedding(num_uniques, 128))\n",
    "lstm.add(Bidirectional(LSTM(64)))\n",
    "lstm.add(Dense(256, activation=\"relu\"))\n",
    "lstm.add(Dropout(0.5))\n",
    "lstm.add(Dense(128))\n",
    "lstm.add(Dense(3, activation=\"sigmoid\"))\n",
    "lstm.compile(optimizer=\"adam\", loss='categorical_crossentropy', metrics=[\"accuracy\"])\n",
    "lstm.summary()"
   ]
  },
  {
   "cell_type": "code",
   "execution_count": 25,
   "id": "7de356a4",
   "metadata": {},
   "outputs": [
    {
     "name": "stdout",
     "output_type": "stream",
     "text": [
      "Epoch 1/5\n",
      "17/17 [==============================] - 4s 91ms/step - loss: 1.0813 - accuracy: 0.3893\n",
      "Epoch 2/5\n",
      "17/17 [==============================] - 2s 91ms/step - loss: 0.6996 - accuracy: 0.7982\n",
      "Epoch 3/5\n",
      "17/17 [==============================] - 2s 95ms/step - loss: 0.1270 - accuracy: 0.9665\n",
      "Epoch 4/5\n",
      "17/17 [==============================] - 2s 93ms/step - loss: 0.0288 - accuracy: 0.9914\n",
      "Epoch 5/5\n",
      "17/17 [==============================] - 2s 91ms/step - loss: 0.0061 - accuracy: 0.9995\n"
     ]
    },
    {
     "data": {
      "text/plain": [
       "<keras.callbacks.History at 0x2819ca64c70>"
      ]
     },
     "execution_count": 25,
     "metadata": {},
     "output_type": "execute_result"
    }
   ],
   "source": [
    "lstm.fit(np.array(x_train), np.array(y_train), epochs=5, verbose=1, batch_size=128, callbacks=[])"
   ]
  },
  {
   "cell_type": "code",
   "execution_count": 26,
   "id": "6a980155",
   "metadata": {},
   "outputs": [
    {
     "name": "stdout",
     "output_type": "stream",
     "text": [
      "34/34 [==============================] - 1s 9ms/step - loss: 0.2684 - accuracy: 0.9230\n",
      "Test accuracy: 92.30055809020996\n"
     ]
    }
   ],
   "source": [
    "lstm_score = lstm.evaluate(x_test, np.array(y_test), verbose=1)\n",
    "lstm_score = lstm_score[1]*100\n",
    "print(f'Test accuracy: {lstm_score}')"
   ]
  },
  {
   "cell_type": "code",
   "execution_count": 27,
   "id": "d3993576",
   "metadata": {},
   "outputs": [
    {
     "data": {
      "image/png": "[encoded data removed]",
      "text/plain": [
       "<Figure size 1000x500 with 1 Axes>"
      ]
     },
     "metadata": {},
     "output_type": "display_data"
    }
   ],
   "source": [
    "models = ['Decision Tree', 'Random Forest', 'SVM', 'LSTM']\n",
    "accuracies = [decision_tree_score, random_forest_score, support_vector_machine_score, lstm_score]\n",
    "\n",
    "sns.set_style(\"whitegrid\")\n",
    "plt.figure(figsize=(10,5))\n",
    "plt.yticks(np.arange(0,100,10))\n",
    "plt.ylabel(\"Test Accuracy %\")\n",
    "plt.xlabel(\"Machine Learning Model\")\n",
    "sns.barplot(x=models, y=accuracies)\n",
    "plt.show()"
   ]
  }
 ],
 "metadata": {
  "kernelspec": {
   "display_name": "Python 3.10.6 64-bit (windows store)",
   "language": "python",
   "name": "python3"
  },
  "language_info": {
   "codemirror_mode": {
    "name": "ipython",
    "version": 3
   },
   "file_extension": ".py",
   "mimetype": "text/x-python",
   "name": "python",
   "nbconvert_exporter": "python",
   "pygments_lexer": "ipython3",
   "version": "3.10.6"
  },
  "vscode": {
   "interpreter": {
    "hash": "506c7cd5f11c76d07d3fb12eb0803be97b690f1666932904271a8a04a8fd81e9"
   }
  }
 },
 "nbformat": 4,
 "nbformat_minor": 5
}
