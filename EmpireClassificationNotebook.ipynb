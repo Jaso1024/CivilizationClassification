{
 "cells": [
  {
   "cell_type": "code",
   "execution_count": null,
   "metadata": {},
   "outputs": [],
   "source": [
    "from sklearn.tree import DecisionTreeClassifier\n",
    "from sklearn.ensemble import RandomForestClassifier\n",
    "from sklearn.svm import SVC as SupportVectorClassifier\n",
    "from sklearn.feature_extraction.text import TfidfVectorizer, CountVectorizer\n",
    "from TextFormatter import Formatter\n",
    "import numpy as np\n",
    "from itertools import count\n",
    "import matplotlib.pyplot as plt\n",
    "from nltk.stem import WordNetLemmatizer\n",
    "import nltk\n",
    "import re\n",
    "import contractions\n",
    "import pandas as pd\n",
    "import numpy as np"
   ]
  },
  {
   "cell_type": "code",
   "execution_count": 3,
   "metadata": {},
   "outputs": [],
   "source": [
    "training = {}\n",
    "testing = {}\n",
    "empires = []\n",
    "\n",
    "with open(\"Resources/Data/Training.txt\", \"r\", encoding=\"utf8\") as file:\n",
    "    empires = file.readline().split(\" \")\n",
    "    for empire in empires:\n",
    "        training[empire] = []\n",
    "        testing[empire] = []\n",
    "        empires.append(empire)"
   ]
  },
  {
   "cell_type": "code",
   "execution_count": null,
   "metadata": {},
   "outputs": [],
   "source": [
    "def make_dataset(self, file, data_dict):\n",
    "    current_empire = None\n",
    "    for line in file.readlines()[1:]:\n",
    "        line = self.clean_whitespace(line)\n",
    "        line = self.fix_era(line)\n",
    "\n",
    "        if line in self.empires:\n",
    "            current_empire = line\n",
    "            continue\n",
    "        elif len(line) < 7 or \"source\" in \"\".join(line).lower():\n",
    "            continue\n",
    "        elif line[-1] != \".\":\n",
    "            line += \".\"\n",
    "\n",
    "        line = nltk.sent_tokenize(line)\n",
    "\n",
    "        for sentence in line:\n",
    "            sentence = self.format_sentence(sentence, current_empire)\n",
    "            if sentence is not None:\n",
    "                data_dict[current_empire].extend([sentence])\n",
    "    return data_dict"
   ]
  },
  {
   "cell_type": "code",
   "execution_count": null,
   "metadata": {},
   "outputs": [],
   "source": [
    "with open(\"Resources/Data/Training.txt\", \"r\", encoding=\"utf8\") as file:\n",
    "    training = make_dataset(file, training)\n",
    "\n",
    "with open(\"Resources/Data/testing.txt\", \"r\", encoding=\"utf8\") as file:\n",
    "    testing = make_dataset(file, testing)"
   ]
  },
  {
   "cell_type": "code",
   "execution_count": null,
   "metadata": {},
   "outputs": [],
   "source": [
    "vectorizer = CountVectorizer()\n",
    "text = list()\n",
    "for empire in empires:\n",
    "    text.extend(training[empire])\n",
    "    text.extend(testing[empire])\n",
    "vectorizer.fit(text)"
   ]
  },
  {
   "cell_type": "code",
   "execution_count": null,
   "metadata": {},
   "outputs": [],
   "source": [
    "def get_pos(tag):\n",
    "    if tag.startswith('J'):\n",
    "        return nltk.corpus.wordnet.ADJ\n",
    "    elif tag.startswith('V'):\n",
    "        return nltk.corpus.wordnet.VERB\n",
    "    elif tag.startswith('N'):\n",
    "        return nltk.corpus.wordnet.NOUN\n",
    "    elif tag.startswith('R'):\n",
    "         return nltk.corpus.wordnet.ADV\n",
    "    else:\n",
    "        return nltk.corpus.wordnet.NOUN"
   ]
  },
  {
   "cell_type": "code",
   "execution_count": null,
   "metadata": {},
   "outputs": [],
   "source": [
    "def preprocess_data(self, data):\n",
    "    text = []\n",
    "    labels = []\n",
    "    for empire in self.empires:\n",
    "        for sentence in data[empire]:\n",
    "            wnl = WordNetLemmatizer()\n",
    "            sentence = nltk.word_tokenize(sentence)\n",
    "            sentence = nltk.pos_tag(sentence)\n",
    "            sentence = [wnl.lemmatize(word, self.get_wordnet_pos(pos)) for word, pos in sentence]\n",
    "            text.append(sentence)\n",
    "            label = np.zeros(len(self.empires))\n",
    "            label[self.empires.index(empire)] = 1\n",
    "            labels.append(label)\n",
    "    return text, labels"
   ]
  },
  {
   "cell_type": "code",
   "execution_count": null,
   "metadata": {},
   "outputs": [],
   "source": [
    "formatter = Formatter()\n",
    "\n",
    "training_data_text, training_labels = preprocess_data(training)\n",
    "training_data = formatter.vectorize(training_data_text)\n",
    "\n",
    "testing_data_text, testing_labels = preprocess_data(testing)\n",
    "testing_data = formatter.vectorize(testing_data_text)"
   ]
  },
  {
   "cell_type": "code",
   "execution_count": null,
   "metadata": {},
   "outputs": [
    {
     "ename": "NameError",
     "evalue": "name 'empires' is not defined",
     "output_type": "error",
     "traceback": [
      "\u001b[1;31m---------------------------------------------------------------------------\u001b[0m",
      "\u001b[1;31mNameError\u001b[0m                                 Traceback (most recent call last)",
      "\u001b[1;32mUntitled-1.ipynb Cell 9\u001b[0m in \u001b[0;36m<cell line: 3>\u001b[1;34m()\u001b[0m\n\u001b[0;32m      <a href='vscode-notebook-cell:Untitled-1.ipynb?jupyter-notebook#X22sdW50aXRsZWQ%3D?line=0'>1</a>\u001b[0m sentences \u001b[39m=\u001b[39m []\n\u001b[0;32m      <a href='vscode-notebook-cell:Untitled-1.ipynb?jupyter-notebook#X22sdW50aXRsZWQ%3D?line=1'>2</a>\u001b[0m labels \u001b[39m=\u001b[39m []\n\u001b[1;32m----> <a href='vscode-notebook-cell:Untitled-1.ipynb?jupyter-notebook#X22sdW50aXRsZWQ%3D?line=2'>3</a>\u001b[0m \u001b[39mfor\u001b[39;00m empire \u001b[39min\u001b[39;00m empires:\n\u001b[0;32m      <a href='vscode-notebook-cell:Untitled-1.ipynb?jupyter-notebook#X22sdW50aXRsZWQ%3D?line=3'>4</a>\u001b[0m     sentences\u001b[39m.\u001b[39mappend(training[empire][\u001b[39m0\u001b[39m:\u001b[39m2\u001b[39m])\n\u001b[0;32m      <a href='vscode-notebook-cell:Untitled-1.ipynb?jupyter-notebook#X22sdW50aXRsZWQ%3D?line=4'>5</a>\u001b[0m     labels\u001b[39m.\u001b[39mappend(empire)\n",
      "\u001b[1;31mNameError\u001b[0m: name 'empires' is not defined"
     ]
    }
   ],
   "source": [
    "sentences = []\n",
    "labels = []\n",
    "for empire in empires:\n",
    "    sentences.append(training[empire][0:2])\n",
    "    labels.append(empire)\n",
    "data = pd.DataFrame({\"Text\":sentences, \"Labels\":labels})\n",
    "data.head()"
   ]
  },
  {
   "cell_type": "code",
   "execution_count": null,
   "metadata": {},
   "outputs": [],
   "source": [
    "x_axis = []\n",
    "y_axis = []\n",
    "for depth in range(100):\n",
    "    decision_tree = DecisionTreeClassifier(random_state=2, max_depth=depth)\n",
    "    decision_tree.fit(training_data, training_labels)\n",
    "    score = decision_tree.score(testing_data, testing_labels)\n",
    "    x_axis.append(depth)\n",
    "    y_axis.append(score)\n",
    "plt.Line2D(x_axis, y_axis)\n",
    "plt.show()"
   ]
  },
  {
   "cell_type": "code",
   "execution_count": null,
   "metadata": {},
   "outputs": [],
   "source": [
    "x_axis = []\n",
    "y_axis = []\n",
    "for estimators in range(100):\n",
    "    for depth in range(100):\n",
    "        random_forest = RandomForestClassifier(n_estimators=estimators, random_state=14, max_depth=depth)\n",
    "        random_forest.fit(training_data, training_labels)\n",
    "        score = random_forest.score(testing_data, testing_labels)\n",
    "        x_axis.append(depth)\n",
    "        y_axis.append(score)"
   ]
  }
 ],
 "metadata": {
  "kernelspec": {
   "display_name": "Python 3.9.13 64-bit (windows store)",
   "language": "python",
   "name": "python3"
  },
  "language_info": {
   "codemirror_mode": {
    "name": "ipython",
    "version": 3
   },
   "file_extension": ".py",
   "mimetype": "text/x-python",
   "name": "python",
   "nbconvert_exporter": "python",
   "pygments_lexer": "ipython3",
   "version": "3.9.13"
  },
  "orig_nbformat": 4,
  "vscode": {
   "interpreter": {
    "hash": "8bf6f67fea791184c93f19e0544c57959b00b02fc54e678238e4386d05328beb"
   }
  }
 },
 "nbformat": 4,
 "nbformat_minor": 2
}
